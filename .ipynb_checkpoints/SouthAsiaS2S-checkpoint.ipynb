{
 "cells": [
  {
   "cell_type": "code",
   "execution_count": 1,
   "id": "915bc191",
   "metadata": {},
   "outputs": [],
   "source": [
    "import xarray as xr \n",
    "import xcast as xc \n",
    "import matplotlib.pyplot \n",
    "import pandas as pd \n",
    "import cartopy.crs as ccrs"
   ]
  },
  {
   "cell_type": "markdown",
   "id": "439325ac",
   "metadata": {},
   "source": [
    "# Parameters"
   ]
  },
  {
   "cell_type": "code",
   "execution_count": 2,
   "id": "9027ae00",
   "metadata": {},
   "outputs": [],
   "source": [
    "ND=5\n",
    "hidden_layer_size=5\n",
    "activation = 'relu'\n",
    "preprocessing = 'minmax'\n",
    "target = 'WK23' # WK23 or WK34"
   ]
  },
  {
   "cell_type": "markdown",
   "id": "fbf839c0",
   "metadata": {},
   "source": [
    "# Load Data"
   ]
  },
  {
   "cell_type": "code",
   "execution_count": 6,
   "id": "8868b892",
   "metadata": {},
   "outputs": [],
   "source": [
    "# open data files\n",
    "x23 = xr.open_dataset('ECMWF_{}.nc'.format(target)).tp\n",
    "bd23 = xr.open_dataset('ENACTS-BD-{}.nc'.format(target)).rfe_merged\n",
    "imd23 = xr.open_dataset('IMD-DAILY-{}.nc'.format(target)).rf\n",
    "\n",
    "# regrid predictors onto predictands \n",
    "bd_x23 = xc.regrid(x23, bd23.coords['X'].values, bd23.coords['Y'].values)\n",
    "imd_x23 = xc.regrid(x23, imd23.coords['lon'].values, imd23.coords['lat'].values)\n",
    "\n",
    "# one-hot encode predictands for skill evaluation \n",
    "ohc = xc.RankedTerciles()\n",
    "ohc.fit(imd23)\n",
    "imd_ohc = ohc.transform(imd23)\n",
    "\n",
    "ohc = xc.RankedTerciles()\n",
    "ohc.fit(bd23)\n",
    "bd_ohc = ohc.transform(bd23)"
   ]
  },
  {
   "cell_type": "markdown",
   "id": "e347f8f7",
   "metadata": {},
   "source": [
    "# Leave-One-Year-Out Cross Validation - WK23"
   ]
  },
  {
   "cell_type": "code",
   "execution_count": 4,
   "id": "a713a6ac",
   "metadata": {},
   "outputs": [
    {
     "name": "stdout",
     "output_type": "stream",
     "text": [
      "Fiting Window 20/20 - 0 days 00:33:48.184594\r"
     ]
    }
   ],
   "source": [
    "imd_wk23_hcsts = []\n",
    "bd_wk23_hcsts = []\n",
    "start, i = pd.Timestamp.now(), 1\n",
    "for year in range(2000, 2020):\n",
    "    if year == 2000:\n",
    "        bd_xtrain23 = bd_x23.sel(S=slice(pd.Timestamp(2000, 12, 31), None))\n",
    "        bd_xtest23 = bd_x23.sel(S=slice(None, pd.Timestamp(2000, 12, 31)) )\n",
    "        \n",
    "        imd_xtrain23 = imd_x23.sel(S=slice(pd.Timestamp(2000, 12, 31), None))\n",
    "        imd_xtest23 = imd_x23.sel(S=slice(None, pd.Timestamp(2000, 12, 31)) )\n",
    "        \n",
    "        imdtrain23 = imd23.sel(time=slice(pd.Timestamp(2000, 12, 31), None))\n",
    "        imdtest23 = imd23.sel(time=slice(None,  pd.Timestamp(2000, 12, 31)))\n",
    "        bdtrain23 = bd23.sel(T=slice( pd.Timestamp(2000, 12, 31), None))\n",
    "        bdtest23 = bd23.sel(T=slice( None, pd.Timestamp(2000, 12, 31)))\n",
    "    elif year == 2019: \n",
    "        bd_xtrain23 = bd_x23.sel(S=slice( None, pd.Timestamp(2018, 12, 31)))\n",
    "        bd_xtest23 = bd_x23.sel(S=slice(pd.Timestamp(2018, 12, 31), None) )\n",
    "        \n",
    "        imd_xtrain23 = imd_x23.sel(S=slice( None, pd.Timestamp(2018, 12, 31)))\n",
    "        imd_xtest23 = imd_x23.sel(S=slice(pd.Timestamp(2018, 12, 31), None) )\n",
    "        \n",
    "        imdtrain23 = imd23.sel(time=slice(None, pd.Timestamp(2018, 12, 31)))\n",
    "        imdtest23 = imd23.sel(time=slice(pd.Timestamp(2018, 12, 31), None))\n",
    "        bdtrain23 = bd23.sel(T=slice(None, pd.Timestamp(2018, 12, 31)))\n",
    "        bdtest23 = bd23.sel(T=slice(pd.Timestamp(2018, 12, 31), None)) \n",
    "    else: \n",
    "        bd_xtrain23_low = bd_x23.sel(S=slice(None, pd.Timestamp(year-1, 12, 31)))\n",
    "        bd_xtrain23_high = bd_x23.sel(S=slice( pd.Timestamp(year, 12, 31), None) )\n",
    "        bd_xtrain23 = xr.concat([bd_xtrain23_low, bd_xtrain23_high], 'S')\n",
    "        bd_xtest23 = bd_x23.sel(S=slice(pd.Timestamp(year-1, 12, 31), pd.Timestamp(year, 12, 31) ) )\n",
    "        \n",
    "        imd_xtrain23_low = imd_x23.sel(S=slice(None, pd.Timestamp(year-1, 12, 31)))\n",
    "        imd_xtrain23_high = imd_x23.sel(S=slice( pd.Timestamp(year, 12, 31), None) )\n",
    "        imd_xtrain23 = xr.concat([imd_xtrain23_low, imd_xtrain23_high], 'S')\n",
    "        imd_xtest23 = imd_x23.sel(S=slice(pd.Timestamp(year-1, 12, 31), pd.Timestamp(year, 12, 31) ) )\n",
    "        \n",
    "        imdtrain23_low = imd23.sel(time=slice(None, pd.Timestamp(year-1, 12, 31)))\n",
    "        imdtrain23_high = imd23.sel(time=slice(pd.Timestamp(year, 12, 31), None))\n",
    "        imdtrain23 = xr.concat([imdtrain23_low, imdtrain23_high], 'time')\n",
    "        imdtest23 = imd23.sel(time=slice(pd.Timestamp(year-1, 12, 31), pd.Timestamp(year, 12, 31) ) )\n",
    "        \n",
    "        bdtrain23_low = bd23.sel(T=slice(None, pd.Timestamp(year-1, 12, 31)))\n",
    "        bdtrain23_high = bd23.sel(T=slice(pd.Timestamp(year, 12, 31), None))\n",
    "        bdtrain23 = xr.concat([bdtrain23_low, bdtrain23_high], 'T')\n",
    "        bdtest23 = bd23.sel(T=slice(pd.Timestamp(year-1, 12, 31), pd.Timestamp(year, 12, 31) ) )\n",
    "\n",
    "    imdt_ohc = xc.RankedTerciles()\n",
    "    imdt_ohc.fit(imdtrain23)\n",
    "    imd_ohc_y_train = imdt_ohc.transform(imdtrain23)\n",
    "    \n",
    "\n",
    "    imdpoelm = xc.cPOELM(ND=ND, hidden_layer_size=hidden_layer_size, activation=activation, preprocessing=preprocessing)\n",
    "    imdpoelm.fit(imd_xtrain23, imd_ohc_y_train)\n",
    "    imdpoelm_preds = imdpoelm.predict(imd_xtest23)\n",
    "    imd_wk23_hcsts.append(imdpoelm_preds)\n",
    "    \n",
    "    bdt_ohc = xc.RankedTerciles()\n",
    "    bdt_ohc.fit(bdtrain23)\n",
    "    bd_ohc_y_train = bdt_ohc.transform(bdtrain23)\n",
    "    \n",
    "    bdpoelm = xc.cPOELM(ND=ND, hidden_layer_size=hidden_layer_size, activation=activation, preprocessing=preprocessing)\n",
    "    bdpoelm.fit(bd_xtrain23, bd_ohc_y_train)\n",
    "    bdpoelm_preds = bdpoelm.predict(bd_xtest23)\n",
    "    bd_wk23_hcsts.append(bdpoelm_preds)\n",
    "    \n",
    "    print('Fiting Window {}/20 - {}'.format(i, pd.Timestamp.now() - start), end='\\r')\n",
    "    i+= 1\n",
    "bd_wk23 = xr.concat(bd_wk23_hcsts, 'S')\n",
    "imd_wk23 = xr.concat(imd_wk23_hcsts, 'S')\n"
   ]
  },
  {
   "cell_type": "markdown",
   "id": "70724c4e",
   "metadata": {},
   "source": [
    "# Calculate Skill "
   ]
  },
  {
   "cell_type": "code",
   "execution_count": null,
   "id": "8ea0f6e1",
   "metadata": {},
   "outputs": [],
   "source": [
    "bd = bd_wk23.mean('ND')\n",
    "bdgroc = xc.GeneralizedROC(bd, bd_ohc)\n",
    "bdpoelm_rps = xc.RankProbabilityScore(bd, bd_ohc)\n",
    "bdclimatological_odds = xr.ones_like(bd) * 0.33 \n",
    "bdclimo_rps = xc.RankProbabilityScore(bdclimatological_odds, bd_ohc)\n",
    "bdrpss = 1 - ( bdpoelm_rps / bdclimo_rps)"
   ]
  },
  {
   "cell_type": "code",
   "execution_count": null,
   "id": "190f0f8d",
   "metadata": {},
   "outputs": [],
   "source": [
    "imd = imd_wk23.mean('ND')\n",
    "imdgroc = xc.GeneralizedROC(imd, imd_ohc)\n",
    "imdpoelm_rps = xc.RankProbabilityScore(imd, imd_ohc)\n",
    "imdclimatological_odds = xr.ones_like(imd) * 0.33 \n",
    "imdclimo_rps = xc.RankProbabilityScore(imdclimatological_odds, imd_ohc)\n",
    "imdrpss = 1 - ( imdpoelm_rps / imdclimo_rps)"
   ]
  },
  {
   "cell_type": "code",
   "execution_count": null,
   "id": "a23f282e",
   "metadata": {},
   "outputs": [],
   "source": []
  }
 ],
 "metadata": {
  "kernelspec": {
   "display_name": "climate",
   "language": "python",
   "name": "climate"
  },
  "language_info": {
   "codemirror_mode": {
    "name": "ipython",
    "version": 3
   },
   "file_extension": ".py",
   "mimetype": "text/x-python",
   "name": "python",
   "nbconvert_exporter": "python",
   "pygments_lexer": "ipython3",
   "version": "3.9.10"
  }
 },
 "nbformat": 4,
 "nbformat_minor": 5
}
