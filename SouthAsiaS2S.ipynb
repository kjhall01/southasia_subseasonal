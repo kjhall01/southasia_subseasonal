{
 "cells": [
  {
   "cell_type": "code",
   "execution_count": 1,
   "id": "915bc191",
   "metadata": {},
   "outputs": [],
   "source": [
    "import xarray as xr \n",
    "import xcast as xc \n",
    "import matplotlib.pyplot \n",
    "import pandas as pd \n",
    "import cartopy.crs as ccrs \n",
    "import matplotlib.pyplot as plt \n",
    "import cartopy.feature as cfeature"
   ]
  },
  {
   "cell_type": "code",
   "execution_count": null,
   "id": "edf8ecdc",
   "metadata": {},
   "outputs": [
    {
     "name": "stdout",
     "output_type": "stream",
     "text": [
      "Email: kjhall@iri.columbia.edu\n",
      "Password: ········\n",
      "URL: ParseResult(scheme='http', netloc='iridl.ldeo.columbia.edu', path='/SOURCES/.ECMWF/.S2S/.ECMF/.reforecast/.perturbed/.sfc_precip/.tp/S/%2825%20May%202020%29/%287%20Sep%202020%29/RANGEEDGES/L/7/21/VALUES/%255BL%255Ddifferences/X/65/100/RANGEEDGES/Y/5/38/RANGEEDGES/hdate/%282000%29/VALUES/data.nc', params='', query='', fragment='')\n",
      "AUTHORIZED: http://iridl.ldeo.columbia.edu/auth/login?ver=1&redirect=%2FSOURCES%2F.ECMWF%2F.S2S%2F.ECMF%2F.reforecast%2F.perturbed%2F.sfc_precip%2F.tp%2FS%2F%252825%2520May%25202020%2529%2F%25287%2520Sep%25202020%2529%2FRANGEEDGES%2FL%2F7%2F21%2FVALUES%2F%25255BL%25255Ddifferences%2FX%2F65%2F100%2FRANGEEDGES%2FY%2F5%2F38%2FRANGEEDGES%2Fhdate%2F%25282000%2529%2FVALUES%2Fdata.nc&realm=iri.columbia.edu%2Fterms%2Fs2s%2F1\n"
     ]
    }
   ],
   "source": [
    "from bootstrap import * \n",
    "import cpttools as ct \n",
    "extent = ct.GeographicExtent(north=38, south=5, east=100, west=65)\n",
    "wk23 = download_ecmwf(extent, target=(7, 21), training_season=(pd.Timestamp(2020, 5, 25), pd.Timestamp(2020, 9, 7)) )"
   ]
  },
  {
   "cell_type": "markdown",
   "id": "439325ac",
   "metadata": {},
   "source": [
    "# Parameters"
   ]
  },
  {
   "cell_type": "code",
   "execution_count": 3,
   "id": "03ad5292",
   "metadata": {},
   "outputs": [
    {
     "ename": "NameError",
     "evalue": "name 'wk23' is not defined",
     "output_type": "error",
     "traceback": [
      "\u001b[0;31m---------------------------------------------------------------------------\u001b[0m",
      "\u001b[0;31mNameError\u001b[0m                                 Traceback (most recent call last)",
      "Input \u001b[0;32mIn [3]\u001b[0m, in \u001b[0;36m<cell line: 1>\u001b[0;34m()\u001b[0m\n\u001b[0;32m----> 1\u001b[0m \u001b[43mwk23\u001b[49m\n",
      "\u001b[0;31mNameError\u001b[0m: name 'wk23' is not defined"
     ]
    }
   ],
   "source": [
    "wk23"
   ]
  },
  {
   "cell_type": "code",
   "execution_count": null,
   "id": "9027ae00",
   "metadata": {},
   "outputs": [],
   "source": [
    "ND=10\n",
    "hidden_layer_size=50\n",
    "activation = 'relu'\n",
    "preprocessing = 'minmax'\n",
    "target = 'WK23' # WK23 or WK34"
   ]
  },
  {
   "cell_type": "markdown",
   "id": "fbf839c0",
   "metadata": {},
   "source": [
    "# Load Data"
   ]
  },
  {
   "cell_type": "code",
   "execution_count": null,
   "id": "8868b892",
   "metadata": {},
   "outputs": [],
   "source": [
    "# open data files\n",
    "x23 = xr.open_dataset('ECMWF_{}_JJAS.nc'.format(target)).tp\n",
    "bd23 = xr.open_dataset('ENACTS-BD-{}.nc'.format(target)).rfe_merged.sel(T=x23.coords['S'].values)\n",
    "imd23 = xr.open_dataset('IMD-DAILY-{}.nc'.format(target)).rf.sel(time=x23.coords['S'].values)\n",
    "\n",
    "# regrid predictors onto predictands \n",
    "bd_x23 = xc.regrid(x23, bd23.coords['X'].values, bd23.coords['Y'].values)\n",
    "imd_x23 = xc.regrid(x23, imd23.coords['lon'].values, imd23.coords['lat'].values)\n",
    "\n"
   ]
  },
  {
   "cell_type": "markdown",
   "id": "db0143cb",
   "metadata": {},
   "source": [
    "# Calculate Rolling Tercile Categories"
   ]
  },
  {
   "cell_type": "code",
   "execution_count": null,
   "id": "043802dc",
   "metadata": {},
   "outputs": [],
   "source": [
    "#init_in_year = xr.DataArray([i % 32 for i in range(imd23.coords['S'].values.shape[0])], dims='S')\n",
    "#imd23 = imd23.assign_coords({'iiy': init_in_year})\n",
    "#bd23 = bd23.assign_coords({'iiy': init_in_year})\n",
    "\n",
    "    \n",
    "\n",
    "# one-hot encode predictands for skill evaluation \n",
    "ohc = xc.RankedTerciles()\n",
    "ohc.fit(imd23)\n",
    "imd_ohc = ohc.transform(imd23)\n",
    "\n",
    "ohc = xc.RankedTerciles()\n",
    "ohc.fit(bd23)\n",
    "bd_ohc = ohc.transform(bd23)"
   ]
  },
  {
   "cell_type": "markdown",
   "id": "e347f8f7",
   "metadata": {},
   "source": [
    "# Leave-One-Year-Out Cross Validation"
   ]
  },
  {
   "cell_type": "code",
   "execution_count": null,
   "id": "a713a6ac",
   "metadata": {},
   "outputs": [],
   "source": [
    "imd_wk23_hcsts = []\n",
    "bd_wk23_hcsts = []\n",
    "start, i = pd.Timestamp.now(), 1\n",
    "for year in range(2000, 2020):\n",
    "    if year == 2000:\n",
    "        bd_xtrain23 = bd_x23.sel(S=slice(pd.Timestamp(2000, 12, 31), None))\n",
    "        bd_xtest23 = bd_x23.sel(S=slice(None, pd.Timestamp(2000, 12, 31)) )\n",
    "        \n",
    "        imd_xtrain23 = imd_x23.sel(S=slice(pd.Timestamp(2000, 12, 31), None))\n",
    "        imd_xtest23 = imd_x23.sel(S=slice(None, pd.Timestamp(2000, 12, 31)) )\n",
    "        \n",
    "        imdtrain23 = imd23.sel(time=slice(pd.Timestamp(2000, 12, 31), None))\n",
    "        imdtest23 = imd23.sel(time=slice(None,  pd.Timestamp(2000, 12, 31)))\n",
    "        bdtrain23 = bd23.sel(T=slice( pd.Timestamp(2000, 12, 31), None))\n",
    "        bdtest23 = bd23.sel(T=slice( None, pd.Timestamp(2000, 12, 31)))\n",
    "    elif year == 2019: \n",
    "        bd_xtrain23 = bd_x23.sel(S=slice( None, pd.Timestamp(2018, 12, 31)))\n",
    "        bd_xtest23 = bd_x23.sel(S=slice(pd.Timestamp(2018, 12, 31), None) )\n",
    "        \n",
    "        imd_xtrain23 = imd_x23.sel(S=slice( None, pd.Timestamp(2018, 12, 31)))\n",
    "        imd_xtest23 = imd_x23.sel(S=slice(pd.Timestamp(2018, 12, 31), None) )\n",
    "        \n",
    "        imdtrain23 = imd23.sel(time=slice(None, pd.Timestamp(2018, 12, 31)))\n",
    "        imdtest23 = imd23.sel(time=slice(pd.Timestamp(2018, 12, 31), None))\n",
    "        bdtrain23 = bd23.sel(T=slice(None, pd.Timestamp(2018, 12, 31)))\n",
    "        bdtest23 = bd23.sel(T=slice(pd.Timestamp(2018, 12, 31), None)) \n",
    "    else: \n",
    "        bd_xtrain23_low = bd_x23.sel(S=slice(None, pd.Timestamp(year-1, 12, 31)))\n",
    "        bd_xtrain23_high = bd_x23.sel(S=slice( pd.Timestamp(year, 12, 31), None) )\n",
    "        bd_xtrain23 = xr.concat([bd_xtrain23_low, bd_xtrain23_high], 'S')\n",
    "        bd_xtest23 = bd_x23.sel(S=slice(pd.Timestamp(year-1, 12, 31), pd.Timestamp(year, 12, 31) ) )\n",
    "        \n",
    "        imd_xtrain23_low = imd_x23.sel(S=slice(None, pd.Timestamp(year-1, 12, 31)))\n",
    "        imd_xtrain23_high = imd_x23.sel(S=slice( pd.Timestamp(year, 12, 31), None) )\n",
    "        imd_xtrain23 = xr.concat([imd_xtrain23_low, imd_xtrain23_high], 'S')\n",
    "        imd_xtest23 = imd_x23.sel(S=slice(pd.Timestamp(year-1, 12, 31), pd.Timestamp(year, 12, 31) ) )\n",
    "        \n",
    "        imdtrain23_low = imd23.sel(time=slice(None, pd.Timestamp(year-1, 12, 31)))\n",
    "        imdtrain23_high = imd23.sel(time=slice(pd.Timestamp(year, 12, 31), None))\n",
    "        imdtrain23 = xr.concat([imdtrain23_low, imdtrain23_high], 'time')\n",
    "        imdtest23 = imd23.sel(time=slice(pd.Timestamp(year-1, 12, 31), pd.Timestamp(year, 12, 31) ) )\n",
    "        \n",
    "        bdtrain23_low = bd23.sel(T=slice(None, pd.Timestamp(year-1, 12, 31)))\n",
    "        bdtrain23_high = bd23.sel(T=slice(pd.Timestamp(year, 12, 31), None))\n",
    "        bdtrain23 = xr.concat([bdtrain23_low, bdtrain23_high], 'T')\n",
    "        bdtest23 = bd23.sel(T=slice(pd.Timestamp(year-1, 12, 31), pd.Timestamp(year, 12, 31) ) )\n",
    "    \n",
    "    imdt_ohc = xc.RankedTerciles()\n",
    "    imdt_ohc.fit(imdtrain23)\n",
    "    imd_ohc_y_train = imdt_ohc.transform(imdtrain23)\n",
    "    \n",
    "\n",
    "    imdpoelm = xc.cPOELM(ND=ND, hidden_layer_size=hidden_layer_size, activation=activation, preprocessing=preprocessing)\n",
    "    imdpoelm.fit(imd_xtrain23, imd_ohc_y_train)\n",
    "    imdpoelm_preds = imdpoelm.predict(imd_xtest23)\n",
    "    imd_wk23_hcsts.append(imdpoelm_preds)\n",
    "    \n",
    "    bdt_ohc = xc.RankedTerciles()\n",
    "    bdt_ohc.fit(bdtrain23)\n",
    "    bd_ohc_y_train = bdt_ohc.transform(bdtrain23)\n",
    "    \n",
    "    bdpoelm = xc.cPOELM(ND=ND, hidden_layer_size=hidden_layer_size, activation=activation, preprocessing=preprocessing)\n",
    "    bdpoelm.fit(bd_xtrain23, bd_ohc_y_train)\n",
    "    bdpoelm_preds = bdpoelm.predict(bd_xtest23)\n",
    "    bd_wk23_hcsts.append(bdpoelm_preds)\n",
    "    \n",
    "    print('Fiting Window {}/20 - {}'.format(i, pd.Timestamp.now() - start), end='\\r')\n",
    "    i+= 1\n",
    "bd_wk23 = xr.concat(bd_wk23_hcsts, 'S')\n",
    "imd_wk23 = xr.concat(imd_wk23_hcsts, 'S')\n"
   ]
  },
  {
   "cell_type": "markdown",
   "id": "70724c4e",
   "metadata": {},
   "source": [
    "# Calculate & Show Skill "
   ]
  },
  {
   "cell_type": "code",
   "execution_count": null,
   "id": "8ea0f6e1",
   "metadata": {},
   "outputs": [],
   "source": [
    "start = pd.Timestamp.now()\n",
    "bd = bd_wk23.mean('ND')\n",
    "bdgroc = xc.GeneralizedROC(bd, bd_ohc)\n",
    "bdpoelm_rps = xc.RankProbabilityScore(bd, bd_ohc)\n",
    "bdclimatological_odds = xr.ones_like(bd) * 0.33 \n",
    "bdclimo_rps = xc.RankProbabilityScore(bdclimatological_odds, bd_ohc)\n",
    "bdrpss = 1 - ( bdpoelm_rps / bdclimo_rps)\n",
    "print(pd.Timestamp.now() - start)"
   ]
  },
  {
   "cell_type": "code",
   "execution_count": null,
   "id": "2afa5c49",
   "metadata": {},
   "outputs": [],
   "source": [
    "cmap = plt.get_cmap('autumn_r')\n",
    "cmap.set_under('lightgray')\n",
    "\n",
    "fig, ax = plt.subplots(nrows=1, ncols=2, figsize=(10, 5), subplot_kw={'projection': ccrs.PlateCarree()})\n",
    "bdgroc.plot(ax=ax[0], vmin=0.5, vmax=1, cmap=cmap)\n",
    "states_provinces = cfeature.NaturalEarthFeature(category='cultural', name='admin_0_countries', scale='50m', facecolor='none')\n",
    "ax[0].add_feature(states_provinces)\n",
    "ax[0].set_title('Generalized ROC')\n",
    "\n",
    "bdrpss.plot(ax=ax[1], vmin=0, vmax=0.2, cmap=cmap)\n",
    "ax[1].add_feature(states_provinces)\n",
    "ax[1].set_title('Rank Probability Skill Score')\n",
    "plt.show()"
   ]
  },
  {
   "cell_type": "code",
   "execution_count": null,
   "id": "61d236e7",
   "metadata": {},
   "outputs": [],
   "source": [
    "start = pd.Timestamp.now()\n",
    "imd = imd_wk23.mean('ND')\n",
    "imdgroc = xc.GeneralizedROC(imd, imd_ohc)\n",
    "imdpoelm_rps = xc.RankProbabilityScore(imd, imd_ohc)\n",
    "imdclimatological_odds = xr.ones_like(imd) * 0.33 \n",
    "imdclimo_rps = xc.RankProbabilityScore(imdclimatological_odds, imd_ohc)\n",
    "imdrpss = 1 - ( imdpoelm_rps / imdclimo_rps)\n",
    "print(pd.Timestamp.now() - start)"
   ]
  },
  {
   "cell_type": "code",
   "execution_count": null,
   "id": "a23f282e",
   "metadata": {},
   "outputs": [],
   "source": [
    "cmap = plt.get_cmap('autumn_r')\n",
    "cmap.set_under('lightgray')\n",
    "\n",
    "fig, ax = plt.subplots(nrows=1, ncols=2, figsize=(10, 5), subplot_kw={'projection': ccrs.PlateCarree()})\n",
    "imdgroc.plot(ax=ax[0], vmin=0.5, vmax=1, cmap=cmap)\n",
    "states_provinces = cfeature.NaturalEarthFeature(category='cultural', name='admin_0_countries', scale='50m', facecolor='none')\n",
    "ax[0].add_feature(states_provinces)\n",
    "ax[0].set_title('Generalized ROC')\n",
    "\n",
    "imdrpss.plot(ax=ax[1], vmin=0, vmax=0.2, cmap=cmap)\n",
    "ax[1].add_feature(states_provinces)\n",
    "ax[1].set_title('Rank Probability Skill Score')\n",
    "plt.show()"
   ]
  }
 ],
 "metadata": {
  "kernelspec": {
   "display_name": "climate",
   "language": "python",
   "name": "climate"
  },
  "language_info": {
   "codemirror_mode": {
    "name": "ipython",
    "version": 3
   },
   "file_extension": ".py",
   "mimetype": "text/x-python",
   "name": "python",
   "nbconvert_exporter": "python",
   "pygments_lexer": "ipython3",
   "version": "3.8.12"
  }
 },
 "nbformat": 4,
 "nbformat_minor": 5
}
